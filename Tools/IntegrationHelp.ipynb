{
 "cells": [
  {
   "cell_type": "code",
   "execution_count": 62,
   "metadata": {},
   "outputs": [],
   "source": [
    "import numpy as np\n",
    "import math\n",
    "import matplotlib.pyplot as plt\n",
    "import scipy.integrate as Int\n",
    "import scipy.interpolate"
   ]
  },
  {
   "cell_type": "code",
   "execution_count": 63,
   "metadata": {},
   "outputs": [],
   "source": [
    "#Short review of basic tools of scipy for numerical integration"
   ]
  },
  {
   "cell_type": "code",
   "execution_count": 64,
   "metadata": {},
   "outputs": [],
   "source": [
    "def f(x):\n",
    "    return math.sin(x)"
   ]
  },
  {
   "cell_type": "code",
   "execution_count": 65,
   "metadata": {},
   "outputs": [
    {
     "name": "stdout",
     "output_type": "stream",
     "text": [
      "(0.9999999999999999, 1.1102230246251564e-14)\n"
     ]
    }
   ],
   "source": [
    "#If you have function you can integrate it\n",
    "#First number is definite integral, second is error of numerical integration\n",
    "Def = Int.quad(f, 0, math.pi/2)\n",
    "print(Def)"
   ]
  },
  {
   "cell_type": "code",
   "execution_count": 66,
   "metadata": {},
   "outputs": [
    {
     "name": "stdout",
     "output_type": "stream",
     "text": [
      "0.8414709146853132\n",
      "0.8414709848078965\n",
      "0.8414709848079012\n"
     ]
    }
   ],
   "source": [
    "#If you have function based on grid you can use common methods \n",
    "X = np.arange(0.0, 1.001, 0.001)\n",
    "Y = np.zeros(len(X))\n",
    "for i in range(len(X)):\n",
    "    Y[i] = math.cos(X[i])\n",
    "#Trapezoidal rule\n",
    "Trapz = Int.trapz(Y, X)\n",
    "#Simpson method\n",
    "Simps = Int.simps(Y, X)\n",
    "print(Trapz)\n",
    "print(math.sin(1))\n",
    "print(Simps)"
   ]
  },
  {
   "cell_type": "code",
   "execution_count": 61,
   "metadata": {},
   "outputs": [
    {
     "name": "stdout",
     "output_type": "stream",
     "text": [
      "1.9358195746511373\n",
      "(1.9358195746511373, None)\n"
     ]
    }
   ],
   "source": [
    "#Gaussian quadrature\n",
    "a = 0.0\n",
    "b = math.pi\n",
    "c = (a + b)/2\n",
    "d = (b - a)/(2*math.sqrt(3))\n",
    "A = ((b-a)/2)*(f(c - d) + f(c + d))\n",
    "print(A)\n",
    "f2 = np.vectorize(f)\n",
    "B = Int.fixed_quad(f2, a, b, n=2)\n",
    "print(B)"
   ]
  }
 ],
 "metadata": {
  "kernelspec": {
   "display_name": "Python 3",
   "language": "python",
   "name": "python3"
  },
  "language_info": {
   "codemirror_mode": {
    "name": "ipython",
    "version": 3
   },
   "file_extension": ".py",
   "mimetype": "text/x-python",
   "name": "python",
   "nbconvert_exporter": "python",
   "pygments_lexer": "ipython3",
   "version": "3.7.3"
  }
 },
 "nbformat": 4,
 "nbformat_minor": 4
}
