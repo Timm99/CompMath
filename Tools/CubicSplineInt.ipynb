{
 "cells": [
  {
   "cell_type": "code",
   "execution_count": 1,
   "metadata": {},
   "outputs": [],
   "source": [
    "import numpy as np\n",
    "import math\n",
    "import matplotlib.pyplot as plt\n",
    "import scipy.interpolate"
   ]
  },
  {
   "cell_type": "code",
   "execution_count": 2,
   "metadata": {},
   "outputs": [],
   "source": [
    "# Data\n",
    "X = np.array([0, 1, 2, 3, 4], dtype = float)\n",
    "Y = np.array([1.0, 0.86603, 0.5, 0.0, -0.5])\n",
    "N = 5"
   ]
  },
  {
   "cell_type": "code",
   "execution_count": 3,
   "metadata": {},
   "outputs": [],
   "source": [
    "#Interpolate data with a piecewise cubic polynomial which is twice continuously differentiable\n",
    "# 'natural' - second derivatives on the ends of are zero\n",
    "F = scipy.interpolate.CubicSpline(X, Y, bc_type='natural')"
   ]
  },
  {
   "cell_type": "code",
   "execution_count": 4,
   "metadata": {},
   "outputs": [
    {
     "name": "stdout",
     "output_type": "stream",
     "text": [
      "\n",
      "\n",
      "0 Segment, Degree 0 \t 1.0\n",
      "0 Segment, Degree 1 \t -0.08138035714285717\n",
      "0 Segment, Degree 2 \t -1.3877787807814457e-17\n",
      "0 Segment, Degree 3 \t -0.05258964285714285\n",
      "\n",
      "\n",
      "1 Segment, Degree 0 \t 0.86603\n",
      "1 Segment, Degree 1 \t -0.23914928571428576\n",
      "1 Segment, Degree 2 \t -0.15776892857142852\n",
      "1 Segment, Degree 3 \t 0.03088821428571431\n",
      "\n",
      "\n",
      "2 Segment, Degree 0 \t 0.5\n",
      "2 Segment, Degree 1 \t -0.4620224999999999\n",
      "2 Segment, Degree 2 \t -0.06510428571428584\n",
      "2 Segment, Degree 3 \t 0.02712678571428573\n",
      "\n",
      "\n",
      "3 Segment, Degree 0 \t 0.0\n",
      "3 Segment, Degree 1 \t -0.5108507142857144\n",
      "3 Segment, Degree 2 \t 0.01627607142857168\n",
      "3 Segment, Degree 3 \t -0.005425357142857301\n"
     ]
    }
   ],
   "source": [
    "for i in range(N-1):\n",
    "    print('\\n')\n",
    "    for j in range(4):\n",
    "        print(i, 'Segment, Degree', j, '\\t', F.c[3 - j, i])"
   ]
  },
  {
   "cell_type": "code",
   "execution_count": 5,
   "metadata": {},
   "outputs": [
    {
     "name": "stdout",
     "output_type": "stream",
     "text": [
      "0.7108741517857142\n",
      "0.9959244084375\n"
     ]
    }
   ],
   "source": [
    "print(F(1.5))\n",
    "print(F(0.05))\n"
   ]
  },
  {
   "cell_type": "code",
   "execution_count": 11,
   "metadata": {},
   "outputs": [],
   "source": [
    "N = 400\n",
    "X1 = np.zeros(400, dtype = float)\n",
    "Y1 = np.zeros(400, dtype = float) \n",
    "\n",
    "for i in range(N):\n",
    "    X1[i] = i/100\n",
    "    Y1[i] = F(X1[i])"
   ]
  },
  {
   "cell_type": "code",
   "execution_count": 12,
   "metadata": {},
   "outputs": [
    {
     "data": {
      "image/png": "[encoded data removed]",
      "text/plain": [
       "<Figure size 432x288 with 1 Axes>"
      ]
     },
     "metadata": {
      "needs_background": "light"
     },
     "output_type": "display_data"
    }
   ],
   "source": [
    "fig = plt.figure()\n",
    "plt.plot(X, Y, \"o\")\n",
    "plt.plot(X1, Y1)\n",
    "plt.show()"
   ]
  },
  {
   "cell_type": "code",
   "execution_count": null,
   "metadata": {
    "jupyter": {
     "source_hidden": true
    }
   },
   "outputs": [],
   "source": []
  }
 ],
 "metadata": {
  "kernelspec": {
   "display_name": "Python 3",
   "language": "python",
   "name": "python3"
  },
  "language_info": {
   "codemirror_mode": {
    "name": "ipython",
    "version": 3
   },
   "file_extension": ".py",
   "mimetype": "text/x-python",
   "name": "python",
   "nbconvert_exporter": "python",
   "pygments_lexer": "ipython3",
   "version": "3.7.3"
  }
 },
 "nbformat": 4,
 "nbformat_minor": 4
}
