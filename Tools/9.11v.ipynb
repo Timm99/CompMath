{
 "cells": [
  {
   "cell_type": "code",
   "execution_count": 1,
   "metadata": {},
   "outputs": [],
   "source": [
    "import numpy as np\n",
    "import math\n",
    "import matplotlib.pyplot as plt\n",
    "import scipy.integrate"
   ]
  },
  {
   "cell_type": "markdown",
   "metadata": {},
   "source": [
    "Compute an integral with accuracy $\\varepsilon = 10^{-3}$\n",
    "$$I = \\int\\limits_0^{\\infty} \\frac{1 - \\cos x}{x\\sqrt{x}} dx$$\n",
    "With integration by parts we can find that\n",
    "$$I = 4\\cdot I_0$$\n",
    "where $I_0$:\n",
    "$$I_0 = \\int\\limits_0^{\\infty} \\sin (t^2) dt $$\n",
    "is Fresnel integral.\n",
    "Using complex analysis we can find that\n",
    "$$I_0 = \\frac{\\sqrt 2}{2} I_1$$\n",
    "where\n",
    "$$I_1 = \\int\\limits_0^{\\infty} \\exp (-t^2)$$\n",
    "Finally\n",
    "$$I = 2\\sqrt 2 I_1$$\n",
    "So we can compute $I_1$"
   ]
  },
  {
   "cell_type": "code",
   "execution_count": 2,
   "metadata": {},
   "outputs": [],
   "source": [
    "def f(x):\n",
    "    return math.exp(-(x**2))"
   ]
  },
  {
   "cell_type": "code",
   "execution_count": 15,
   "metadata": {},
   "outputs": [
    {
     "name": "stdout",
     "output_type": "stream",
     "text": [
      "0.8862269254527579\n",
      "2.5066282746310007\n"
     ]
    }
   ],
   "source": [
    "# Actually we know I_1 = \\sqrt(\\pi)/2 from mathematical analysis \n",
    "AnswerI1 = math.sqrt(math.pi)/2\n",
    "print(AnswerI1)\n",
    "AnswerI = (2**(1.5)) * AnswerI1\n",
    "print(AnswerI)"
   ]
  },
  {
   "cell_type": "code",
   "execution_count": 18,
   "metadata": {},
   "outputs": [
    {
     "name": "stdout",
     "output_type": "stream",
     "text": [
      "0.8862269254527579\n"
     ]
    }
   ],
   "source": [
    "Low = 0.0\n",
    "Up = 1000.0\n",
    "X = np.arange(Low, Up, 0.1)\n",
    "Y = np.arange(Low, Up, 0.1)\n",
    "for i in range(len(X)):\n",
    "    Y[i] = f(X[i])\n",
    "print(scipy.integrate.trapz(Y, X))"
   ]
  }
 ],
 "metadata": {
  "kernelspec": {
   "display_name": "Python 3",
   "language": "python",
   "name": "python3"
  },
  "language_info": {
   "codemirror_mode": {
    "name": "ipython",
    "version": 3
   },
   "file_extension": ".py",
   "mimetype": "text/x-python",
   "name": "python",
   "nbconvert_exporter": "python",
   "pygments_lexer": "ipython3",
   "version": "3.7.3"
  }
 },
 "nbformat": 4,
 "nbformat_minor": 4
}
