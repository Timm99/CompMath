{
 "cells": [
  {
   "cell_type": "markdown",
   "metadata": {},
   "source": [
    ". Для функции, заданной таблично, найти значение первой производной в указанной точке с максимально возможной точностью 1. с помощью интерполяции, 2. методом неопределенных коэффициентов.\n",
    "$$\\dot{f} (3) = ?$$"
   ]
  },
  {
   "cell_type": "code",
   "execution_count": 15,
   "metadata": {},
   "outputs": [],
   "source": [
    "import numpy as np\n",
    "import math\n",
    "import matplotlib.pyplot as plt\n",
    "from numpy import linalg as LA \n",
    "from scipy.interpolate import lagrange"
   ]
  },
  {
   "cell_type": "code",
   "execution_count": 3,
   "metadata": {},
   "outputs": [],
   "source": [
    "X = np.array([0, 2, 3, 5, 7], dtype = float)\n",
    "Y = np.array([-1, 0, 2, 3, 5], dtype = float)"
   ]
  },
  {
   "cell_type": "code",
   "execution_count": 4,
   "metadata": {},
   "outputs": [
    {
     "name": "stdout",
     "output_type": "stream",
     "text": [
      "         4          3         2\n",
      "0.04643 x - 0.6643 x + 2.939 x - 3.093 x - 1\n"
     ]
    }
   ],
   "source": [
    "N = lagrange(X, Y)\n",
    "print(N)"
   ]
  },
  {
   "cell_type": "code",
   "execution_count": 5,
   "metadata": {},
   "outputs": [
    {
     "name": "stdout",
     "output_type": "stream",
     "text": [
      "0.04642857142857142\n"
     ]
    }
   ],
   "source": [
    "print(N[4])"
   ]
  },
  {
   "cell_type": "code",
   "execution_count": 6,
   "metadata": {},
   "outputs": [],
   "source": [
    "def Der(x):\n",
    "    return 4*N[4]*x**3 + 3*N[3]*x**2 + 2*N[2]*x + N[1] "
   ]
  },
  {
   "cell_type": "code",
   "execution_count": 7,
   "metadata": {},
   "outputs": [
    {
     "name": "stdout",
     "output_type": "stream",
     "text": [
      "1.62142857142857\n"
     ]
    }
   ],
   "source": [
    "print(Der(3))"
   ]
  },
  {
   "cell_type": "markdown",
   "metadata": {},
   "source": [
    "Метод неопределенных коэффициентов, формула четвертого порядка аппроксимации"
   ]
  },
  {
   "cell_type": "code",
   "execution_count": 21,
   "metadata": {},
   "outputs": [
    {
     "name": "stdout",
     "output_type": "stream",
     "text": [
      "1.621428571428571\n"
     ]
    }
   ],
   "source": [
    "X = np.array([0, 1, 0, 0, 0])\n",
    "A = np.array([[1, 1, 1, 1, 1],\n",
    "             [-3, -1, 0, 2, 4],\n",
    "             [9/2, 1/2, 0, 2, 8],\n",
    "             [-27/6, -1/6, 0, 4/3, 32/3],\n",
    "             [27/8, 1/24, 0, 2/3, 32/3]],  dtype = float)\n",
    "Sol = LA.solve(A, X)\n",
    "print(Sol@Y)"
   ]
  }
 ],
 "metadata": {
  "kernelspec": {
   "display_name": "Python 3",
   "language": "python",
   "name": "python3"
  },
  "language_info": {
   "codemirror_mode": {
    "name": "ipython",
    "version": 3
   },
   "file_extension": ".py",
   "mimetype": "text/x-python",
   "name": "python",
   "nbconvert_exporter": "python",
   "pygments_lexer": "ipython3",
   "version": "3.7.3"
  }
 },
 "nbformat": 4,
 "nbformat_minor": 4
}
