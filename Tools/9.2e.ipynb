{
 "cells": [
  {
   "cell_type": "markdown",
   "metadata": {},
   "source": [
    ". Для функции, заданной таблично, найти значение первой производной в указанной точке с максимально возможной точностью 1. с помощью интерполяции, 2. методом неопределенных коэффициентов.\n",
    "$$\\dot{f} (3) = ?$$"
   ]
  },
  {
   "cell_type": "code",
   "execution_count": 1,
   "metadata": {},
   "outputs": [],
   "source": [
    "import numpy as np\n",
    "import math\n",
    "import matplotlib.pyplot as plt\n",
    "from scipy.interpolate import lagrange"
   ]
  },
  {
   "cell_type": "code",
   "execution_count": 5,
   "metadata": {},
   "outputs": [],
   "source": [
    "X = np.array([0, 2, 3, 5, 7], dtype = float)\n",
    "Y = np.array([-1, 0, 2, 3, 5], dtype = float)"
   ]
  },
  {
   "cell_type": "code",
   "execution_count": 6,
   "metadata": {},
   "outputs": [
    {
     "name": "stdout",
     "output_type": "stream",
     "text": [
      "         4          3         2\n",
      "0.04643 x - 0.6643 x + 2.939 x - 3.093 x - 1\n"
     ]
    }
   ],
   "source": [
    "N = lagrange(X, Y)\n",
    "print(N)"
   ]
  },
  {
   "cell_type": "code",
   "execution_count": 8,
   "metadata": {},
   "outputs": [
    {
     "name": "stdout",
     "output_type": "stream",
     "text": [
      "0.04642857142857142\n"
     ]
    }
   ],
   "source": [
    "print(N[4])"
   ]
  },
  {
   "cell_type": "code",
   "execution_count": 14,
   "metadata": {},
   "outputs": [],
   "source": [
    "def Der(x):\n",
    "    return 4*N[4]*x**3 + 3*N[3]*x**2 + 2*N[2]*x + N[1] "
   ]
  },
  {
   "cell_type": "code",
   "execution_count": 10,
   "metadata": {},
   "outputs": [
    {
     "name": "stdout",
     "output_type": "stream",
     "text": [
      "1.62142857142857\n"
     ]
    }
   ],
   "source": [
    "print(Der(3))"
   ]
  },
  {
   "cell_type": "markdown",
   "metadata": {},
   "source": [
    "Метод неопределенных коэффициентов, формула четвертого порядка аппроксимации\n",
    "$$\\dot{f} = \\frac{f(x-2h) - 8*f(x - h) + 8*f(x+h) - f(x+2h)}{12h}$$"
   ]
  },
  {
   "cell_type": "code",
   "execution_count": 13,
   "metadata": {},
   "outputs": [
    {
     "name": "stdout",
     "output_type": "stream",
     "text": [
      "0.75\n"
     ]
    }
   ],
   "source": [
    "h = 2.0\n",
    "print((Y[0] - 8*Y[1] + 8*Y[3] - Y[4])/(12*h))"
   ]
  },
  {
   "cell_type": "code",
   "execution_count": null,
   "metadata": {},
   "outputs": [],
   "source": []
  }
 ],
 "metadata": {
  "kernelspec": {
   "display_name": "Python 3",
   "language": "python",
   "name": "python3"
  },
  "language_info": {
   "codemirror_mode": {
    "name": "ipython",
    "version": 3
   },
   "file_extension": ".py",
   "mimetype": "text/x-python",
   "name": "python",
   "nbconvert_exporter": "python",
   "pygments_lexer": "ipython3",
   "version": "3.7.3"
  }
 },
 "nbformat": 4,
 "nbformat_minor": 4
}
