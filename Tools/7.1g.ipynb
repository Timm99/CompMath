{
 "cells": [
  {
   "cell_type": "markdown",
   "metadata": {},
   "source": [
    "Используя методы дихотомии и сведения вариационной задачи к\n",
    "задаче алгебраического уравнения, найти точку локального минимума\n",
    "функции: $$f(t) = t\\exp(-t^2/2)$$ \n",
    "\n",
    "$$\\dot{f} = \\exp(-t^2/2) - t^2\\exp(-t^2/2) = 0$$\n",
    "$$t = \\pm 1$$\n",
    "-1 is global minimum, 1 is global maximum"
   ]
  },
  {
   "cell_type": "code",
   "execution_count": 1,
   "metadata": {},
   "outputs": [],
   "source": [
    "import numpy as np\n",
    "import math\n",
    "import matplotlib.pyplot as plt"
   ]
  },
  {
   "cell_type": "code",
   "execution_count": 4,
   "metadata": {},
   "outputs": [],
   "source": [
    "def f(t):\n",
    "    return t*math.exp(-(t**2)/2)"
   ]
  },
  {
   "cell_type": "code",
   "execution_count": 7,
   "metadata": {},
   "outputs": [],
   "source": [
    "N = 100\n",
    "X = np.zeros(N, dtype = float)\n",
    "Y = np.zeros(N, dtype = float)\n",
    "for i in range(N):\n",
    "    X[i] = -5*i/N\n",
    "    Y[i] = f(X[i])"
   ]
  },
  {
   "cell_type": "code",
   "execution_count": 8,
   "metadata": {},
   "outputs": [
    {
     "data": {
      "image/png": "[encoded data removed]",
      "text/plain": [
       "<Figure size 432x288 with 1 Axes>"
      ]
     },
     "metadata": {
      "needs_background": "light"
     },
     "output_type": "display_data"
    }
   ],
   "source": [
    "fig = plt.figure()\n",
    "plt.plot(X,Y)\n",
    "plt.show()"
   ]
  },
  {
   "cell_type": "code",
   "execution_count": 38,
   "metadata": {},
   "outputs": [
    {
     "name": "stdout",
     "output_type": "stream",
     "text": [
      "-1.0000001916609458\n"
     ]
    }
   ],
   "source": [
    "# We see our value approximately is 1\n",
    "#dichotomy from -2 to 0\n",
    "K = 10000\n",
    "a = -3.0\n",
    "b = 1.0\n",
    "for i in range (K):\n",
    "    epsilon = (b-a)/1000\n",
    "    if (f((a+b)/2 + epsilon) >= f((a+b)/2 - epsilon)):\n",
    "        b = (a+b)/2 + epsilon\n",
    "    else:\n",
    "        a = (a+b)/2 + epsilon\n",
    "print ((a+b)/2)"
   ]
  },
  {
   "cell_type": "markdown",
   "metadata": {},
   "source": []
  }
 ],
 "metadata": {
  "kernelspec": {
   "display_name": "Python 3",
   "language": "python",
   "name": "python3"
  },
  "language_info": {
   "codemirror_mode": {
    "name": "ipython",
    "version": 3
   },
   "file_extension": ".py",
   "mimetype": "text/x-python",
   "name": "python",
   "nbconvert_exporter": "python",
   "pygments_lexer": "ipython3",
   "version": "3.7.3"
  }
 },
 "nbformat": 4,
 "nbformat_minor": 4
}
