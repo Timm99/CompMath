{
 "cells": [
  {
   "cell_type": "code",
   "execution_count": 2,
   "metadata": {},
   "outputs": [],
   "source": [
    "import numpy as np\n",
    "import math\n",
    "import matplotlib.pyplot as plt\n",
    "import scipy.integrate as Integ\n",
    "import scipy.interpolate as Inter\n",
    "from scipy import linalg as spLA\n",
    "from numpy import linalg as LA"
   ]
  },
  {
   "cell_type": "code",
   "execution_count": null,
   "metadata": {},
   "outputs": [],
   "source": []
  },
  {
   "cell_type": "code",
   "execution_count": 3,
   "metadata": {},
   "outputs": [],
   "source": [
    "def omega(X, x):\n",
    "    a = 1.0\n",
    "    for i in range(len(X)):\n",
    "        a *= (x - X[i])\n",
    "    return a  "
   ]
  },
  {
   "cell_type": "code",
   "execution_count": 4,
   "metadata": {},
   "outputs": [],
   "source": [
    "#Файл написан для облегчения написания потоковой кр по вычматам"
   ]
  },
  {
   "cell_type": "markdown",
   "metadata": {},
   "source": [
    "Оценка погрешности интерполяции n - степень многочлена\n",
    "\n",
    "$$\\|f - P_n(x) \\| <= \\frac{max(f^{n+1})}{(n+1)!} \\|\\omega_{n+1} (x)\\| $$"
   ]
  },
  {
   "cell_type": "code",
   "execution_count": 5,
   "metadata": {},
   "outputs": [
    {
     "name": "stdout",
     "output_type": "stream",
     "text": [
      "В лоб\n",
      "          5           4          3          2\n",
      "0.01667 x + 0.04167 x - 0.3333 x - 0.5417 x + 1.817 x + 2\n",
      "Таблица разделенных разностей: \n",
      "\n",
      "[[-1.          1.          0.5        -0.33333333  0.04166667  0.01666667]\n",
      " [ 0.          2.         -0.5        -0.16666667  0.125       0.        ]\n",
      " [ 2.          1.         -1.          0.33333333  0.          0.        ]\n",
      " [ 3.         -1.          0.          0.          0.          0.        ]\n",
      " [ 2.         -1.          0.          0.          0.          0.        ]\n",
      " [ 1.          0.          0.          0.          0.          0.        ]]\n",
      "\n",
      " Значение интерполяционного многочлена в точке: -0.7343750000000004\n",
      "\n",
      "Многочлен omega\n",
      " -14.765625\n",
      "\n",
      "Погрешность\n",
      " -0.1435546875\n"
     ]
    }
   ],
   "source": [
    "#№2\n",
    "#Нахождение интерполяционного многочлена с промежуточными выкладками\n",
    "#Этим же алгоритмом можно найти корень нелинейного уравнения методом обратной интерполяции\n",
    "\n",
    "X = np.array([-2, -1, 0, 1, 2, 3], dtype = float)\n",
    "Y = np.array([-1, 0, 2, 3, 2, 1], dtype = float)\n",
    "\n",
    "Raz = np.zeros((len(X), len(X)), dtype = float)\n",
    "Lagr = Inter.lagrange(X, Y)\n",
    "print('В лоб\\n', Lagr)\n",
    "# by hands\n",
    "for i in range(len(X)):\n",
    "    Raz[0][i] = Y[i]\n",
    "for j in range(len(X)-1):\n",
    "    for i in range(len(X) - 1 - j):\n",
    "        Raz[j+1][i] = (Raz[j][i+1] - Raz[j][i])/(X[j + 1 + i] - X[i])\n",
    "print('Таблица разделенных разностей: \\n')\n",
    "print(Raz.transpose())\n",
    "print('\\n Значение интерполяционного многочлена в точке:', Lagr(-1.5))\n",
    "print('\\nМногочлен omega\\n', omega(X, -1.5))\n",
    "der = 7\n",
    "print('\\nПогрешность\\n', omega(X, -1.5)*der/math.factorial(len(X)))"
   ]
  },
  {
   "cell_type": "code",
   "execution_count": 6,
   "metadata": {},
   "outputs": [],
   "source": [
    "# №3\n",
    "#Достаточное условие сходимости - норма матрицы Якоби в некоторой окрестности корня строго меньше 1\n"
   ]
  },
  {
   "cell_type": "markdown",
   "metadata": {},
   "source": [
    "Формула экстраполяции Ричардсона\n",
    "$$I \\approx I_h + \\frac{I_h - I_{2h}}{2^p -1}$$\n",
    "p - порядок сходимости, для метода трапеций по умолчанию он равен 2\n",
    "\n",
    "Формула порядка сходимости с помощью процесса Эйткена\n",
    "$$2^p = \\frac{I_{2h} - I_{4h}}{I_{h} - I_{2h}}$$\n",
    "Уточнение с помощью процесса Эйткена - замена p = 2 на реальный порядок сходимости"
   ]
  },
  {
   "cell_type": "code",
   "execution_count": 7,
   "metadata": {},
   "outputs": [
    {
     "name": "stdout",
     "output_type": "stream",
     "text": [
      "Трапеция, h\t 0.501019375\n",
      "Трапеция, 2h\t 0.3861607499999999\n",
      "Трапеция, 4h\t -0.005132499999999984\n",
      "Симпсон, h\t 0.5393055833333332\n",
      "Ричардсон, h\t 0.539305\n",
      "Порядок аппроксимации 1.7683997993184286\n",
      "Уточнение процессом Эйткена 0.5487421041743915\n"
     ]
    }
   ],
   "source": [
    "#№5 Численное интегрирование\n",
    "#   Замечание: Значение, полученное экстраполяцией Ричардсона для метода трапеций должно совпасть со значением,\n",
    "#   полученным методои Симпсона\n",
    "h = 0.25\n",
    "X = np.arange(0, 2.25 , 0.25)\n",
    "Y = np.array([0, 0.489540, 0.647175, 0.697211, 0.642093, 0.464366, 0.130279, -0.419361, -1.294451]) \n",
    "I_h = 0.501019\n",
    "I_2h = 0.386161\n",
    "I_4h = -0.0051325\n",
    "print('Трапеция, h\\t', Integ.trapz(Y, X))\n",
    "print('Трапеция, 2h\\t', Integ.trapz(Y[::2], X[::2]))\n",
    "print('Трапеция, 4h\\t', Integ.trapz(Y[::4], X[::4]))\n",
    "print('Симпсон, h\\t', Integ.simps(Y, X))\n",
    "print('Ричардсон, h\\t', I_h + (I_h - I_2h)/3)\n",
    "print('Порядок аппроксимации', math.log((I_2h - I_4h)/(I_h - I_2h),2) )\n",
    "print('Уточнение процессом Эйткена', I_4h + ((I_2h - I_4h)**2)/(2*I_2h - I_h - I_4h))"
   ]
  },
  {
   "cell_type": "code",
   "execution_count": 8,
   "metadata": {},
   "outputs": [
    {
     "name": "stdout",
     "output_type": "stream",
     "text": [
      "В лоб\n",
      "        3         2\n",
      "9.226 x + 3.229 x + 1.69 x - 0.8009\n",
      "Таблица разделенных разностей: \n",
      "\n",
      "[[-1.1         1.37457045  1.17467646  9.22601818]\n",
      " [-0.9         1.68491997  4.33827809  0.        ]\n",
      " [-0.7         2.54129606  0.          0.        ]\n",
      " [-0.5         0.          0.          0.        ]]\n",
      "\n",
      " Значение интерполяционного многочлена в точке: -0.8008525586225932\n"
     ]
    }
   ],
   "source": [
    "Y = np.array([-1.1, -0.9, -0.7, -0.5], dtype = float)\n",
    "X = np.array([-0.2108, -0.0653, 0.0534, 0.1321], dtype = float)\n",
    "\n",
    "Raz = np.zeros((len(X), len(X)), dtype = float)\n",
    "Lagr = Inter.lagrange(X, Y)\n",
    "print('В лоб\\n', Lagr)\n",
    "# by hands\n",
    "for i in range(len(X)):\n",
    "    Raz[0][i] = Y[i]\n",
    "for j in range(len(X)-1):\n",
    "    for i in range(len(X) - 1 - j):\n",
    "        Raz[j+1][i] = (Raz[j][i+1] - Raz[j][i])/(X[j + 1 + i] - X[i])\n",
    "print('Таблица разделенных разностей: \\n')\n",
    "print(Raz.transpose())\n",
    "print('\\n Значение интерполяционного многочлена в точке:', Lagr(0))\n"
   ]
  },
  {
   "cell_type": "code",
   "execution_count": 9,
   "metadata": {},
   "outputs": [
    {
     "name": "stdout",
     "output_type": "stream",
     "text": [
      "Фробениуса: 1.0\n",
      "Обычная 1.0\n"
     ]
    }
   ],
   "source": [
    "#Матрица:\n",
    "A = np.array([[0, 1], [0, 0]], dtype = float)\n",
    "print('Фробениуса:',LA.norm(A))\n",
    "print('Обычная', LA.norm(A, 2))"
   ]
  },
  {
   "cell_type": "code",
   "execution_count": 10,
   "metadata": {},
   "outputs": [
    {
     "data": {
      "image/png": "[encoded data removed]",
      "text/plain": [
       "<Figure size 432x288 with 1 Axes>"
      ]
     },
     "metadata": {
      "needs_background": "light"
     },
     "output_type": "display_data"
    }
   ],
   "source": [
    "#Графики\n",
    "fig = plt.figure()\n",
    "plt.plot(X, Y, 'o')\n",
    "plt.show()"
   ]
  },
  {
   "cell_type": "code",
   "execution_count": 11,
   "metadata": {},
   "outputs": [],
   "source": [
    "#Вспомогательный многочлен Лагранжа\n",
    "def l(k, x, X):\n",
    "    Value = 1\n",
    "    for i in range(len(X)):\n",
    "        if (i != k):\n",
    "            Value *= (x - X[i])/(X[k] - X[i])\n",
    "        else:\n",
    "            continue\n",
    "    return Value"
   ]
  },
  {
   "cell_type": "code",
   "execution_count": 12,
   "metadata": {},
   "outputs": [
    {
     "name": "stdout",
     "output_type": "stream",
     "text": [
      "-0.07200000000000008\n",
      "1.1760000000000002\n"
     ]
    }
   ],
   "source": [
    "#Для функции Лебега\n",
    "X = np.array([0, math.pi/6, math.pi/4, math.pi/3])\n",
    "print(l(3, math.pi/5, X))\n",
    "sum = 0\n",
    "for i in range(len(X)):\n",
    "    sum += math.fabs(l(i, math.pi/5, X))\n",
    "print(sum)"
   ]
  },
  {
   "cell_type": "code",
   "execution_count": null,
   "metadata": {},
   "outputs": [],
   "source": []
  }
 ],
 "metadata": {
  "kernelspec": {
   "display_name": "Python 3",
   "language": "python",
   "name": "python3"
  },
  "language_info": {
   "codemirror_mode": {
    "name": "ipython",
    "version": 3
   },
   "file_extension": ".py",
   "mimetype": "text/x-python",
   "name": "python",
   "nbconvert_exporter": "python",
   "pygments_lexer": "ipython3",
   "version": "3.7.3"
  }
 },
 "nbformat": 4,
 "nbformat_minor": 4
}
