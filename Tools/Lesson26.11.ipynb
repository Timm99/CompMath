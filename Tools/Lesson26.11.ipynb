{
 "cells": [
  {
   "cell_type": "markdown",
   "metadata": {},
   "source": [
    "Вычисление интегралов о  функций с особенностями\n",
    "\n",
    "1. Несобственные интегралы 1, 2 рода\n",
    "2. Интегралы от быстроосциллирующих функций\n",
    "\n",
    "Пример: 1) замена переменной\n",
    "$$I = \\int\\limits_0^1 \\frac{\\cos x}{\\sqrt{x}} \\, dx$$\n",
    "Заменой $x = t^2$ получаем интеграл без особенности:\n",
    "$$I = 2\\cdot \\int\\limits_0^1 \\cos t^2 \\, dt$$\n",
    "Пример: 2) интегрирование по частям\n",
    "$$I = 2\\cdot \\sqrt{x} \\cos x |_0^1 + 2\\cdot\\int\\limits_0^1 \\sqrt{x}\\sin x \\, dx$$\n",
    "Пример: 3) Метод явного выделения особенности Канторовича\n",
    "$$I = \\int\\limits_0^1 \\frac{1}{\\sqrt{x}} \\, dx + \\int\\limits_0^1 \\frac{\\cos x - 1}{\\sqrt{x}} \\, dx$$\n",
    "Пример: 4) Разложение в ряд \n",
    "$$I = \\int\\limits_0^{\\delta} \\frac{\\cos x}{\\sqrt{x}} \\, dx + \\int\\limits_{\\delta}^{1} \\frac{\\cos x}{\\sqrt{x}} \\, dx = \\int\\limits_0^{\\delta} \\frac{1 - x^2/2 + x^4/24 + ...}{\\sqrt{x}} \\, dx + \\int\\limits_{\\delta}^{1} \\frac{\\cos x}{\\sqrt{x}} \\, dx$$\n",
    "В 4 примере брать слишком маленькие $\\delta$ плохо, существенно ухудшаются оценки точности интегрирования.\n",
    "\n",
    "$\\Large{Задача 1}$\n",
    "Пусть имеется программа, реализующая метод трапеций для заданной функции с заданным шагом на заданном интервале. Описать алгоритм вычисления интеграла с точностью $\\varepsilon = 10^{-4}$.\n",
    "$$I = \\int\\limits_0^{\\pi /2}\\ln ( \\sin x) dx$$\n",
    "Используем метод Канторовича, добавим и вычтем интеграл от логарифма.\n",
    "$$I = \\int\\limits_0^{\\pi /2}( \\ln ( \\sin x) - \\ln x )dx + \\int\\limits_0^{\\pi /2} \\ln x dx = I = \\int\\limits_0^{\\pi /2}( \\ln ( \\frac{\\sin x}{x}))dx + \\int\\limits_0^{\\pi /2} \\ln x dx = I_1 + I_2$$\n",
    "Интеграл от логарифма берется явно, первый же интеграл не содержит особенности.\n",
    "$$I_2 = (x\\ln x - x) |_0^1$$\n",
    "\n",
    "Если выполнено $| \\frac{I_1^h - I_1^{2h}}{2^p - 1} | < \\varepsilon $, p - порядок аппроксимации , то интеграл $I^h$ дает требуемую точность $\\varepsilon$.\n",
    "Далее надо численно найти $I_2$ \n"
   ]
  },
  {
   "cell_type": "markdown",
   "metadata": {},
   "source": [
    "$\\Large{Задача \\, 2}$\n",
    "Вычислить несобственный интеграл с точностью $\\varepsilon = 0.5\\cdot 10^{-4}$\n",
    "$$I = \\int\\limits_{0}^{\\infty} \\frac{1}{1 + x^5} \\, dx$$\n",
    "$$I = \\int\\limits_{0}^{\\infty} \\frac{1}{1 + x^5} \\, dx = \\int\\limits_{0}^{M} \\frac{1}{1 + x^5} \\, dx + \\int\\limits_{M}^{\\infty} \\frac{1}{1 + x^5} \\, dx$$\n",
    "$$\\int\\limits_{M}^{\\infty} \\frac{1}{1 + x^5} \\, dx = \\frac{1}{4M^4} < \\varepsilon /2$$\n",
    "Осталось вычислить интеграл по конечному отрезку с точностью $\\varepsilon /2$\n",
    "Необходимо определить достаточный шаг интегрирования, вычислим производные подынтегральной функции\n",
    "$$\\dot{f} = \\frac{-5x^4}{(1+x^5)^2}$$\n",
    "$$\\ddot{f} = \\frac{50x^8}{(1+x^5)^3} - \\frac{20x^3}{(1+x^5)^2}$$\n",
    "$$|\\ddot{f}| <= 4$$ (Wolfram)\n",
    "Оценим шаг $ \\frac{(b - a)h^2}{12} ||\\ddot{f}|| < \\varepsilon /2$, затем можно переходить к вычислениям\n",
    "Можно также выбрать М из соображения:\n",
    "$$| \\int\\limits_{M}^{\\infty} \\frac{1}{1 + x^5} \\, dx - \\int\\limits_{M}^{\\infty} \\frac{1}{x^5} \\, dx | < \\varepsilon /2$$\n",
    "Этим способом мы существенно сдвинули границу M влево и упростить задачу численного интегрирования."
   ]
  },
  {
   "cell_type": "markdown",
   "metadata": {},
   "source": [
    "$\\Large{Задача \\, 3}$\n",
    "Пусть дана таблица значений функции f(x)"
   ]
  },
  {
   "cell_type": "code",
   "execution_count": 1,
   "metadata": {},
   "outputs": [],
   "source": [
    "import numpy as np\n",
    "import math\n",
    "import matplotlib.pyplot as plt\n",
    "import scipy.integrate"
   ]
  },
  {
   "cell_type": "code",
   "execution_count": 6,
   "metadata": {},
   "outputs": [
    {
     "name": "stdout",
     "output_type": "stream",
     "text": [
      "2.5428049813610425\n"
     ]
    }
   ],
   "source": [
    "N = 100\n",
    "X = np.zeros(N)\n",
    "Y = np.zeros(N)\n",
    "\n",
    "print(((4/9)*(10**(4)))**(1/9))"
   ]
  },
  {
   "cell_type": "code",
   "execution_count": 27,
   "metadata": {},
   "outputs": [
    {
     "name": "stdout",
     "output_type": "stream",
     "text": [
      "0.6115038273250204\n",
      "0.5951605382335483\n",
      "0.549372795623019\n"
     ]
    }
   ],
   "source": [
    "X = np.arange(0.0, 1.1 , 0.125)\n",
    "Y = np.zeros(len(X), dtype = float)\n",
    "Y[0] = 0.0\n",
    "for i in range(len(X)-1):\n",
    "    Y[i+1] = math.sin(X[i+1])/math.sqrt(X[i+1])\n",
    "\n",
    "Ih = scipy.integrate.trapz(Y, X)\n",
    "I2h = scipy.integrate.trapz(Y[0::2], X[0::2])\n",
    "I4h = scipy.integrate.trapz(Y[0::4], X[0::4])\n",
    "print(scipy.integrate.trapz(Y, X))\n",
    "print(scipy.integrate.trapz(Y[0::2], X[0::2]))\n",
    "print(scipy.integrate.trapz(Y[0::4], X[0::4]))\n"
   ]
  },
  {
   "cell_type": "markdown",
   "metadata": {},
   "source": [
    "Процесс Эйткина\n",
    "\n",
    "$I = I_h + c\\cdot h^p + O(h^{p+1})$ (1)\n",
    "\n",
    "$I = I_{2h} + c\\cdot  2^p h^p + O(h^{p+1})$ (2)\n",
    "\n",
    "$I = I_{4h} + c\\cdot 4^p h^p + O(h^{p+1})$ (3)\n",
    "\n",
    "(1) = (2)\n",
    "(2) = (3)\n",
    "Откуда находим $2^p = \\frac{I_{2h} - I_{4h}}{I_{h} - I_{2h}}$"
   ]
  },
  {
   "cell_type": "code",
   "execution_count": 29,
   "metadata": {},
   "outputs": [
    {
     "name": "stdout",
     "output_type": "stream",
     "text": [
      "2.8016234892657748\n"
     ]
    }
   ],
   "source": [
    "# Такое происходит из-за особенности в нуле\n",
    "print((I2h - I4h)/(Ih - I2h))"
   ]
  },
  {
   "cell_type": "code",
   "execution_count": null,
   "metadata": {},
   "outputs": [],
   "source": []
  }
 ],
 "metadata": {
  "kernelspec": {
   "display_name": "Python 3",
   "language": "python",
   "name": "python3"
  },
  "language_info": {
   "codemirror_mode": {
    "name": "ipython",
    "version": 3
   },
   "file_extension": ".py",
   "mimetype": "text/x-python",
   "name": "python",
   "nbconvert_exporter": "python",
   "pygments_lexer": "ipython3",
   "version": "3.7.3"
  }
 },
 "nbformat": 4,
 "nbformat_minor": 4
}
