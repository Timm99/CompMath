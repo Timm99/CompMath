{
 "cells": [
  {
   "cell_type": "code",
   "execution_count": 1,
   "metadata": {},
   "outputs": [],
   "source": [
    "import numpy as np\n",
    "import math\n",
    "import matplotlib.pyplot as plt\n",
    "from numpy import linalg as LA \n",
    "import functools\n",
    "import fractions"
   ]
  },
  {
   "cell_type": "code",
   "execution_count": 6,
   "metadata": {},
   "outputs": [],
   "source": [
    "def F(x):\n",
    "    return x*math.pow(2, x)"
   ]
  },
  {
   "cell_type": "code",
   "execution_count": 16,
   "metadata": {},
   "outputs": [],
   "source": [
    "def G(x):\n",
    "    return math.pow(2, -x)"
   ]
  },
  {
   "cell_type": "code",
   "execution_count": 15,
   "metadata": {},
   "outputs": [
    {
     "data": {
      "image/png": "[encoded data removed]",
      "text/plain": [
       "<Figure size 432x288 with 1 Axes>"
      ]
     },
     "metadata": {
      "needs_background": "light"
     },
     "output_type": "display_data"
    }
   ],
   "source": [
    "N = 1000\n",
    "X = np.zeros(N, dtype = float)\n",
    "Y = np.zeros(N, dtype = float)\n",
    "Z = np.zeros(N, dtype = float)\n",
    "for i in range (N):\n",
    "    X[i] = i/500.0 \n",
    "    Y[i] = F(X[i])\n",
    "    Z[i] = 1\n",
    "fig = plt.figure()\n",
    "plt.plot(X,Y)\n",
    "plt.plot(X,Z)\n",
    "plt.show()"
   ]
  },
  {
   "cell_type": "code",
   "execution_count": 21,
   "metadata": {},
   "outputs": [
    {
     "name": "stdout",
     "output_type": "stream",
     "text": [
      "0.7071067811865476\n",
      "0.6125473265360659\n",
      "0.6540408600420695\n",
      "0.6354978458133738\n",
      "0.6437186417228691\n",
      "0.6400610211772397\n",
      "0.6416858070429983\n",
      "0.6409635371779633\n",
      "0.641284509066585\n",
      "0.6411418514717379\n",
      "0.6412052524498624\n",
      "0.6411770745288387\n",
      "0.6411895977668723\n",
      "0.6411840319786225\n",
      "0.6411865056139605\n",
      "0.6411854062407777\n",
      "0.6411858948418261\n",
      "0.6411856776898719\n",
      "0.6411857742000348\n",
      "0.6411857313074347\n"
     ]
    }
   ],
   "source": [
    "x_0 = 0.5\n",
    "x = x_0\n",
    "for i in range (20):\n",
    "    x = G(x)\n",
    "    print(x)"
   ]
  },
  {
   "cell_type": "code",
   "execution_count": null,
   "metadata": {},
   "outputs": [],
   "source": []
  }
 ],
 "metadata": {
  "kernelspec": {
   "display_name": "Python 3",
   "language": "python",
   "name": "python3"
  },
  "language_info": {
   "codemirror_mode": {
    "name": "ipython",
    "version": 3
   },
   "file_extension": ".py",
   "mimetype": "text/x-python",
   "name": "python",
   "nbconvert_exporter": "python",
   "pygments_lexer": "ipython3",
   "version": "3.7.3"
  }
 },
 "nbformat": 4,
 "nbformat_minor": 4
}
