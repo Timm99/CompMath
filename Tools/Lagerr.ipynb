{
 "cells": [
  {
   "cell_type": "code",
   "execution_count": 2,
   "metadata": {},
   "outputs": [],
   "source": [
    "import numpy as np\n",
    "import math\n",
    "import matplotlib.pyplot as plt\n",
    "import scipy.interpolate\n",
    "import fractions"
   ]
  },
  {
   "cell_type": "code",
   "execution_count": 9,
   "metadata": {},
   "outputs": [],
   "source": [
    "def IncreaseLagerr(X1, X2, k):\n",
    "    Y1 = np.zeros(len(X1), dtype = float)\n",
    "    Y2 = np.zeros(len(X2), dtype = float)\n",
    "    Y22 = np.zeros(len(X2), dtype = float)\n",
    "    Y1 = X1\n",
    "    Y2 = X2\n",
    "    Y22[0] = 0\n",
    "    for i in range (len(X2) - 1):\n",
    "            Y22[i + 1] = Y2[i]\n",
    "    for i in range(k):\n",
    "        X2 = ((2*k + 1)*Y2 - Y22 - k*Y1 )/(k + 1)\n",
    "    X1 = Y2\n",
    "    return X1, X2"
   ]
  },
  {
   "cell_type": "code",
   "execution_count": 15,
   "metadata": {},
   "outputs": [
    {
     "name": "stdout",
     "output_type": "stream",
     "text": [
      "[ 1.         -3.          1.5        -0.16666667]\n"
     ]
    }
   ],
   "source": [
    "#Compute Laguerre polynomial of degree N\n",
    "#Finally\n",
    "N = 3\n",
    "A0 = np.zeros(N + 1)\n",
    "A1 = np.zeros(N + 1)\n",
    "A0[0] = 1\n",
    "A1[0] = 1\n",
    "A1[1] = -1\n",
    "for i in range (N-1):\n",
    "    A0, A1 = IncreaseLagerr(A0, A1, i+1)\n",
    "print(A1)"
   ]
  },
  {
   "cell_type": "code",
   "execution_count": 19,
   "metadata": {},
   "outputs": [
    {
     "name": "stdout",
     "output_type": "stream",
     "text": [
      "[1.00000000e+00 1.66666667e-01 2.38095238e-02 2.97619048e-03\n",
      " 3.30687831e-04 3.30687831e-05 3.00625301e-06 2.50521084e-07\n",
      " 1.92708526e-08 1.37648947e-09 9.17659648e-11]\n"
     ]
    }
   ],
   "source": [
    "#Compute Laguerre polynomial from Quantum mechanics\n",
    "N = 10\n",
    "A = np.zeros(N+1)\n",
    "#Write initial conditions\n",
    "A[0] = 1\n",
    "nu = 2 \n",
    "l = 2\n",
    "#\n",
    "for i in range(N):\n",
    "    A[i+1] = A[i]*(l + 1 + i -nu)/((i+1)*(i + 2*l +2))\n",
    "print(A)"
   ]
  },
  {
   "cell_type": "code",
   "execution_count": null,
   "metadata": {},
   "outputs": [],
   "source": []
  }
 ],
 "metadata": {
  "kernelspec": {
   "display_name": "Python 3",
   "language": "python",
   "name": "python3"
  },
  "language_info": {
   "codemirror_mode": {
    "name": "ipython",
    "version": 3
   },
   "file_extension": ".py",
   "mimetype": "text/x-python",
   "name": "python",
   "nbconvert_exporter": "python",
   "pygments_lexer": "ipython3",
   "version": "3.7.3"
  }
 },
 "nbformat": 4,
 "nbformat_minor": 4
}
