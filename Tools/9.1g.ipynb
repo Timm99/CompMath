{
 "cells": [
  {
   "cell_type": "code",
   "execution_count": 4,
   "metadata": {},
   "outputs": [],
   "source": [
    "import numpy as np\n",
    "import math\n",
    "import matplotlib.pyplot as plt\n",
    "from scipy.interpolate import lagrange"
   ]
  },
  {
   "cell_type": "markdown",
   "metadata": {},
   "source": [
    "Методом обратной интерполяции найти корень нелинейного\n",
    "уравнения, используя приведенные таблицы. Оценить точность полученного решения\n",
    "$$\\sqrt {4-x^2} - exp(x)$$"
   ]
  },
  {
   "cell_type": "code",
   "execution_count": 7,
   "metadata": {},
   "outputs": [
    {
     "name": "stdout",
     "output_type": "stream",
     "text": [
      "0.6402394623561537\n"
     ]
    }
   ],
   "source": [
    "X = np.array([0.5, 0.6, 0.7, 0.8])\n",
    "Y = np.array([0.288, 0.086, -0.135, -0.392])\n",
    "N = lagrange(Y, X)\n",
    "print(np.polyval(N, 0))"
   ]
  },
  {
   "cell_type": "code",
   "execution_count": 8,
   "metadata": {},
   "outputs": [],
   "source": [
    "#Wolfram shows answer 0.639263"
   ]
  }
 ],
 "metadata": {
  "kernelspec": {
   "display_name": "Python 3",
   "language": "python",
   "name": "python3"
  },
  "language_info": {
   "codemirror_mode": {
    "name": "ipython",
    "version": 3
   },
   "file_extension": ".py",
   "mimetype": "text/x-python",
   "name": "python",
   "nbconvert_exporter": "python",
   "pygments_lexer": "ipython3",
   "version": "3.7.3"
  }
 },
 "nbformat": 4,
 "nbformat_minor": 4
}
